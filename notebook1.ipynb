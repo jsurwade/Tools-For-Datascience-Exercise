{
 "cells": [
  {
   "cell_type": "code",
   "execution_count": null,
   "id": "44897a82-b5c8-4b75-89a9-03edcc065f09",
   "metadata": {},
   "outputs": [],
   "source": [
    "\n",
    "\n"
   ]
  },
  {
   "cell_type": "code",
   "execution_count": null,
   "id": "0fe3d04d-86f6-4d38-bb3d-d2198e343592",
   "metadata": {},
   "outputs": [],
   "source": [
    "Here is a list of popular languages used in Data Science:\n",
    "\n",
    "1. Python\n",
    "2. R\n",
    "3. SQL\n",
    "4. Java\n",
    "5. Julia\n",
    "6. Scala\n"
   ]
  },
  {
   "cell_type": "code",
   "execution_count": null,
   "id": "4e9edd0c-9789-473f-a076-26e8a04107c9",
   "metadata": {},
   "outputs": [],
   "source": []
  },
  {
   "cell_type": "code",
   "execution_count": null,
   "id": "08126684-8324-4bdc-889f-08c491c620a3",
   "metadata": {},
   "outputs": [],
   "source": [
    "Here is a list of commonly used libraries in Data Science:\n",
    "\n",
    "1. NumPy\n",
    "2. Pandas\n",
    "3. Matplotlib\n",
    "4. Seaborn\n",
    "5. Scikit-learn\n",
    "6. TensorFlow\n",
    "7. PyTorch\n"
   ]
  },
  {
   "cell_type": "code",
   "execution_count": null,
   "id": "55a8a1e3-cdef-403b-aa74-196c2cf69dbe",
   "metadata": {},
   "outputs": [],
   "source": [
    "Here is a table of commonly used Data Science Tools:\n",
    "\n",
    " Tool             Category              \n",
    "\n",
    "Jupyter Notebook  IDE / Environment    \n",
    "RStudio          IDE / Environment    \n",
    " Apache Spark     Big Data Processing \n",
    " TensorFlow       Machine Learning     \n",
    " PyTorch          Deep Learning        \n",
    " Tableau          Data Visualization   \n"
   ]
  },
  {
   "cell_type": "code",
   "execution_count": null,
   "id": "9d54dc08-9bc4-4682-8d73-8e3f0e5be72d",
   "metadata": {},
   "outputs": [],
   "source": []
  },
  {
   "cell_type": "code",
   "execution_count": 3,
   "id": "67fc3d85-ec05-41fb-996c-8cb5f2b3cbb5",
   "metadata": {},
   "outputs": [
    {
     "name": "stdout",
     "output_type": "stream",
     "text": [
      "Multiplication Result: 20\n",
      "Addition Result: 17\n"
     ]
    }
   ],
   "source": [
    "# Multiply two numbers\n",
    "product = 5 * 4\n",
    "print(\"Multiplication Result:\", product)\n",
    "\n",
    "# Add two numbers\n",
    "sum_result = 10 + 7\n",
    "print(\"Addition Result:\", sum_result)\n"
   ]
  },
  {
   "cell_type": "code",
   "execution_count": null,
   "id": "f8a5c1d4-9467-4b2d-9f7d-c7b4f963d34a",
   "metadata": {},
   "outputs": [],
   "source": [
    "This section shows examples of evaluating arithme"
   ]
  },
  {
   "cell_type": "code",
   "execution_count": null,
   "id": "b8d9f4ed-23f6-46ef-8507-87d0534ea48a",
   "metadata": {},
   "outputs": [],
   "source": []
  },
  {
   "cell_type": "code",
   "execution_count": 4,
   "id": "4ddb4505-a9d2-43ad-86aa-541e8bd75ce6",
   "metadata": {},
   "outputs": [
    {
     "name": "stdout",
     "output_type": "stream",
     "text": [
      "150 minutes is equal to 2.5 hours\n"
     ]
    }
   ],
   "source": [
    "# Convert minutes to hours\n",
    "minutes = 150\n",
    "hours = minutes / 60\n",
    "\n",
    "print(f\"{minutes} minutes is equal to {hours} hours\")\n"
   ]
  },
  {
   "cell_type": "code",
   "execution_count": 5,
   "id": "8fff1e1a-209e-436a-a52f-419089ab3a78",
   "metadata": {},
   "outputs": [
    {
     "ename": "SyntaxError",
     "evalue": "invalid syntax (246691179.py, line 1)",
     "output_type": "error",
     "traceback": [
      "\u001b[1;36m  Cell \u001b[1;32mIn[5], line 1\u001b[1;36m\u001b[0m\n\u001b[1;33m    150 minutes is equal to 2.5 hours\u001b[0m\n\u001b[1;37m        ^\u001b[0m\n\u001b[1;31mSyntaxError\u001b[0m\u001b[1;31m:\u001b[0m invalid syntax\n"
     ]
    }
   ],
   "source": [
    "150 minutes is equal to 2.5 hours\n"
   ]
  },
  {
   "cell_type": "code",
   "execution_count": null,
   "id": "a2d3d1f9-7ff3-42d6-9efe-2419e15d3328",
   "metadata": {},
   "outputs": [],
   "source": [
    "The objectives of this Python exercise are as follows:\n",
    "\n",
    "- Learn basic Python syntax\n",
    "- Practice arithmetic operations\n",
    "- Understand variable assignments\n",
    "- Implement simple functions\n"
   ]
  },
  {
   "cell_type": "code",
   "execution_count": 6,
   "id": "147a0609-2b1d-4667-ab84-72724bf4a442",
   "metadata": {},
   "outputs": [
    {
     "ename": "SyntaxError",
     "evalue": "invalid syntax (144949307.py, line 1)",
     "output_type": "error",
     "traceback": [
      "\u001b[1;36m  Cell \u001b[1;32mIn[6], line 1\u001b[1;36m\u001b[0m\n\u001b[1;33m    **Author:** Jayesh Surwade\u001b[0m\n\u001b[1;37m    ^\u001b[0m\n\u001b[1;31mSyntaxError\u001b[0m\u001b[1;31m:\u001b[0m invalid syntax\n"
     ]
    }
   ],
   "source": [
    "**Author:** Jayesh Surwade\n"
   ]
  },
  {
   "cell_type": "code",
   "execution_count": null,
   "id": "c56a69ba-9915-4fd0-b1f0-6f974ea5f1d7",
   "metadata": {},
   "outputs": [],
   "source": []
  }
 ],
 "metadata": {
  "kernelspec": {
   "display_name": "Python [conda env:base] *",
   "language": "python",
   "name": "conda-base-py"
  },
  "language_info": {
   "codemirror_mode": {
    "name": "ipython",
    "version": 3
   },
   "file_extension": ".py",
   "mimetype": "text/x-python",
   "name": "python",
   "nbconvert_exporter": "python",
   "pygments_lexer": "ipython3",
   "version": "3.13.5"
  }
 },
 "nbformat": 4,
 "nbformat_minor": 5
}
